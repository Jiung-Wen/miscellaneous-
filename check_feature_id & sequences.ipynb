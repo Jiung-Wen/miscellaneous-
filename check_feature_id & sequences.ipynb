{
 "cells": [
  {
   "cell_type": "code",
   "execution_count": 1,
   "metadata": {},
   "outputs": [],
   "source": [
    "import pandas as pd\n",
    "from qiime2 import Artifact"
   ]
  },
  {
   "cell_type": "code",
   "execution_count": 2,
   "metadata": {},
   "outputs": [],
   "source": [
    "\"\"\"\n",
    "Load table and seq from 'Sci_Rep_2017b' (V4 region)\n",
    "The salivary microbiome as an indicator of carcinogenesis in patients \n",
    "with oropharyngeal squamous cell carcinoma: A pilot study\n",
    "\"\"\"\n",
    "table_1 = Artifact.load('Sci_Rep_2017b_table.qza')\n",
    "seqs_1 = Artifact.load('Sci_Rep_2017b_sequences.qza')\n",
    "\n",
    "\n",
    "\"\"\"\n",
    "Load table and seq from 'PLOS_ONE_2014' (V4 region)\n",
    "Bacterial alteration in salivary microbiota  and their association in oral cancer\n",
    "\"\"\"\n",
    "table_2 = Artifact.load('PLOS_ONE_2014_table.qza')\n",
    "seqs_2 = Artifact.load('PLOS_ONE_2014_sequences.qza')"
   ]
  },
  {
   "cell_type": "code",
   "execution_count": 3,
   "metadata": {},
   "outputs": [],
   "source": [
    "# convert to pandas' dataframe and series datastructure\n",
    "df_table_1 = table_1.view(pd.DataFrame)\n",
    "ser_seqs_1 = seqs_1.view(pd.Series)\n",
    "\n",
    "df_table_2 = table_2.view(pd.DataFrame)\n",
    "ser_seqs_2 = seqs_2.view(pd.Series)"
   ]
  },
  {
   "cell_type": "code",
   "execution_count": 4,
   "metadata": {},
   "outputs": [
    {
     "data": {
      "text/plain": [
       "Index(['50b0b4cd015999c8222bb021637c8873', '959aeca1a65ce24599aaed29828c33f0',\n",
       "       '8b84a4ddaedff09de10789670dd8d7ec', '4ac711b46d68011221bfd3afb538a3dc',\n",
       "       '9f185911874fb5d5b2623b647359f33b', '1ec321d2e2cf3e3a7046ff8def9fdd13',\n",
       "       '124930655bc445fb3e9523ddaccaf346', 'e8f3058091170164f253d1d57c5f8912',\n",
       "       '94adac1e5690b5aef26d6014e471f458', 'e4abc7e798dc0de4035299647bedcf1d',\n",
       "       ...\n",
       "       '9fa6c62fdf049b5bd9ef0260ed901853', '0e41240b413688989228c6c422ce24e4',\n",
       "       '795c703d4c16ffeb7508632702c7e01d', '367f90c7332d353f11390a6631091bf7',\n",
       "       '015e719f3186bfa6b0f44ba0b4cb6209', '564811ed6ce9e86b1a85f41ae6722ce6',\n",
       "       'b20bb3d72317e7eb86d2286e63e32ba7', 'aa953b4619982e0cc3896ee2146a4cf6',\n",
       "       'df043a5969cb17682b13a01ee607a5d3', '4707acb19acbcf34a2abdf084bf6d7c4'],\n",
       "      dtype='object', length=1083)"
      ]
     },
     "execution_count": 4,
     "metadata": {},
     "output_type": "execute_result"
    }
   ],
   "source": [
    "# show feature IDs in table 1\n",
    "df_table_1.columns"
   ]
  },
  {
   "cell_type": "code",
   "execution_count": 5,
   "metadata": {},
   "outputs": [
    {
     "data": {
      "text/plain": [
       "Index(['394eda29c886632f514dd94b58381186', '06f825b512d903b9230e1a55d87359ee',\n",
       "       '32f8fd11d2bee278d609a1d4ab767554', '85c44c83eddc5d3028261a1000b7d0e1',\n",
       "       '4f5efd25dacb5d639316e7291ff6ff8b', '7d135dfbf857c62673695ef24332b100',\n",
       "       'ca9c66d47347c03d0343d6fe03ed8636', '923f521b9cf313f1f95c9367e09bbc1c',\n",
       "       '59f7d8a7f37d6eeec95eb556f33da267', '8674dcf0cfe35939037fa9a5b986866f',\n",
       "       ...\n",
       "       '524383798a3b0e7df712be516de32f97', 'd1d4d4a6df36955e6e67d7b32e2fdafe',\n",
       "       '2804f1abbdde069f3cb78e4669755acc', 'ffde5da5465f6689030a7121d9a38365',\n",
       "       'b70b98d40ffee4e2b96679f4b8274733', '633e0e06711db8a3ca4bc947e754996c',\n",
       "       '7440de30b2068eeeb916d98e1e2cde72', '5534a6ae0c0a17d72c63fbfa2ddda79b',\n",
       "       '898517cda47bf7626cad8ce37fc85d08', '1dca104d96e09a385302f0e0ec8b8553'],\n",
       "      dtype='object', length=1706)"
      ]
     },
     "execution_count": 5,
     "metadata": {},
     "output_type": "execute_result"
    }
   ],
   "source": [
    "# show feature IDs in table 2\n",
    "df_table_2.columns"
   ]
  },
  {
   "cell_type": "code",
   "execution_count": 6,
   "metadata": {},
   "outputs": [
    {
     "data": {
      "text/plain": [
       "set()"
      ]
     },
     "execution_count": 6,
     "metadata": {},
     "output_type": "execute_result"
    }
   ],
   "source": [
    "# return common feature(s)\n",
    "set(df_table_1.columns) & set(df_table_2.columns)"
   ]
  },
  {
   "cell_type": "code",
   "execution_count": 7,
   "metadata": {},
   "outputs": [],
   "source": [
    "# elements in ser_seqs are actually skbio.DNA object and are unhashable\n",
    "# therefore, we first convert them to string\n",
    "ls_seqs_1 = [str(ser_seqs_1[index]) for index, _ in enumerate(ser_seqs_1)]\n",
    "ls_seqs_2 = [str(ser_seqs_2[index]) for index, _ in enumerate(ser_seqs_2)]"
   ]
  },
  {
   "cell_type": "code",
   "execution_count": 8,
   "metadata": {},
   "outputs": [
    {
     "data": {
      "text/plain": [
       "set()"
      ]
     },
     "execution_count": 8,
     "metadata": {},
     "output_type": "execute_result"
    }
   ],
   "source": [
    "# return common sequence(s)\n",
    "set(ls_seqs_1) & set(ls_seqs_2)"
   ]
  }
 ],
 "metadata": {
  "kernelspec": {
   "display_name": "Python 3",
   "language": "python",
   "name": "python3"
  },
  "language_info": {
   "codemirror_mode": {
    "name": "ipython",
    "version": 3
   },
   "file_extension": ".py",
   "mimetype": "text/x-python",
   "name": "python",
   "nbconvert_exporter": "python",
   "pygments_lexer": "ipython3",
   "version": "3.6.5"
  }
 },
 "nbformat": 4,
 "nbformat_minor": 2
}
